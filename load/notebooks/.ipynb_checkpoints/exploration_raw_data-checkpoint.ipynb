{
 "cells": [
  {
   "cell_type": "code",
   "execution_count": 1,
   "id": "5e88738d-266e-452b-b033-7406071134cc",
   "metadata": {},
   "outputs": [
    {
     "name": "stderr",
     "output_type": "stream",
     "text": [
      "25/09/22 10:01:15 WARN SparkSession: Using an existing Spark session; only runtime SQL configurations will take effect.\n"
     ]
    }
   ],
   "source": [
    "from pyspark.sql import SparkSession\n",
    "from pyspark.sql.functions import col, when\n",
    "\n",
    "spark = SparkSession.builder \\\n",
    "    .appName(\"Iceberg-MinIO\") \\\n",
    "    .getOrCreate()\n",
    "\n"
   ]
  },
  {
   "cell_type": "code",
   "execution_count": 2,
   "id": "86dcca63-e0b8-4d64-880e-5e48a005db74",
   "metadata": {},
   "outputs": [
    {
     "name": "stdout",
     "output_type": "stream",
     "text": [
      "+---------+\n",
      "|namespace|\n",
      "+---------+\n",
      "|     imdb|\n",
      "+---------+\n",
      "\n",
      "+---------+---------+-----------+\n",
      "|namespace|tableName|isTemporary|\n",
      "+---------+---------+-----------+\n",
      "+---------+---------+-----------+\n",
      "\n"
     ]
    }
   ],
   "source": [
    "\n",
    "spark.sql(\"CREATE NAMESPACE IF NOT EXISTS demo.imdb\")\n",
    "spark.sql(\"SHOW NAMESPACES IN demo\").show()\n",
    "spark.sql(\"SHOW TABLES IN demo.imdb\").show()\n",
    "\n"
   ]
  },
  {
   "cell_type": "code",
   "execution_count": 3,
   "id": "bd55c0e5-7dfd-4c08-946c-8f39199a0f26",
   "metadata": {},
   "outputs": [
    {
     "data": {
      "text/plain": [
       "DataFrame[]"
      ]
     },
     "execution_count": 3,
     "metadata": {},
     "output_type": "execute_result"
    }
   ],
   "source": [
    "spark.sql(\"\"\"DROP TABLE IF EXISTS demo.imdb.title_basics\"\"\")\n",
    "spark.sql(\"\"\"DROP TABLE IF EXISTS demo.imdb.title_akas\"\"\")\n",
    "spark.sql(\"\"\"DROP TABLE IF EXISTS demo.imdb.title_crew\"\"\")\n",
    "spark.sql(\"\"\"DROP TABLE IF EXISTS demo.imdb.title_episode\"\"\")\n",
    "spark.sql(\"\"\"DROP TABLE IF EXISTS demo.imdb.title_ratings\"\"\")\n",
    "spark.sql(\"\"\"DROP TABLE IF EXISTS demo.imdb.title_principals\"\"\")\n",
    "spark.sql(\"\"\"DROP TABLE IF EXISTS demo.imdb.name_basics\"\"\")\n"
   ]
  },
  {
   "cell_type": "code",
   "execution_count": 4,
   "id": "4748ada9-73d7-49dc-b345-37a6aeb0b030",
   "metadata": {},
   "outputs": [
    {
     "data": {
      "text/plain": [
       "DataFrame[]"
      ]
     },
     "execution_count": 4,
     "metadata": {},
     "output_type": "execute_result"
    }
   ],
   "source": [
    "spark.sql(\"\"\"\n",
    "CREATE TABLE IF NOT EXISTS demo.imdb.title_basics (\n",
    "    title_id STRING,\n",
    "    title_type STRING,\n",
    "    primary_title STRING,\n",
    "    original_title STRING,\n",
    "    is_adult STRING,\n",
    "    start_year STRING,\n",
    "    end_year STRING,\n",
    "    runtime_minutes STRING,\n",
    "    genres STRING\n",
    ") USING iceberg\n",
    "\"\"\")"
   ]
  },
  {
   "cell_type": "code",
   "execution_count": null,
   "id": "902fca54-330d-4777-93dd-6f72a1d58002",
   "metadata": {},
   "outputs": [],
   "source": []
  },
  {
   "cell_type": "code",
   "execution_count": 6,
   "id": "bb0ba583-8ea7-4129-a8ab-fca89b65e0cb",
   "metadata": {},
   "outputs": [
    {
     "name": "stdout",
     "output_type": "stream",
     "text": [
      "+---------+----------+--------------------+--------------------+--------+----------+--------+---------------+--------------------+\n",
      "| title_id|title_type|       primary_title|      original_title|is_adult|start_year|end_year|runtime_minutes|              genres|\n",
      "+---------+----------+--------------------+--------------------+--------+----------+--------+---------------+--------------------+\n",
      "|tt0000001|     short|          Carmencita|          Carmencita|       0|      1894|    NULL|              1|   Documentary,Short|\n",
      "|tt0000002|     short|Le clown et ses c...|Le clown et ses c...|       0|      1892|    NULL|              5|     Animation,Short|\n",
      "|tt0000003|     short|        Poor Pierrot|      Pauvre Pierrot|       0|      1892|    NULL|              5|Animation,Comedy,...|\n",
      "|tt0000004|     short|         Un bon bock|         Un bon bock|       0|      1892|    NULL|             12|     Animation,Short|\n",
      "|tt0000005|     short|    Blacksmith Scene|    Blacksmith Scene|       0|      1893|    NULL|              1|               Short|\n",
      "+---------+----------+--------------------+--------------------+--------+----------+--------+---------------+--------------------+\n",
      "only showing top 5 rows\n",
      "\n"
     ]
    }
   ],
   "source": [
    "# Read a file from MinIO\n",
    "title_df = spark.read \\\n",
    "    .option(\"header\", True) \\\n",
    "    .option(\"sep\", \"\\t\") \\\n",
    "    .csv(\"s3a://data/imdb/year=2025/month=09/day=22/title.basics.tsv.gz\")\n",
    "\n",
    "title_rename_columns_df = title_df.withColumnsRenamed({\"tconst\": \"title_id\", \"titleType\": \"title_type\", \"primaryTitle\": \"primary_title\", \"originalTitle\": \"original_title\", \"isAdult\": \"is_adult\", \"startYear\": \"start_year\", \"endYear\": \"end_year\", \"runtimeMinutes\": \"runtime_minutes\"}) \n",
    "\n",
    "title_basics_set_null_values_df = title_rename_columns_df \\\n",
    "    .withColumn(\"end_year\",when(col(\"end_year\") == \"\\\\N\", None).otherwise(col(\"end_year\")))\n",
    "\n",
    "\n",
    "title_basics_set_null_values_df.schema\n",
    "title_basics_set_null_values_df.show(5)"
   ]
  },
  {
   "cell_type": "code",
   "execution_count": 8,
   "id": "55c60b2f-0bb7-46e5-9a44-bf1d04043ab1",
   "metadata": {},
   "outputs": [
    {
     "name": "stderr",
     "output_type": "stream",
     "text": [
      "                                                                                "
     ]
    }
   ],
   "source": [
    "title_basics_set_null_values_df.writeTo(\"demo.imdb.title_basics\").createOrReplace()"
   ]
  },
  {
   "cell_type": "code",
   "execution_count": 10,
   "id": "c675b8bb-1f66-4aa9-b2c0-ebae45a91f9e",
   "metadata": {},
   "outputs": [
    {
     "name": "stdout",
     "output_type": "stream",
     "text": [
      "+---------+----------+--------------------+--------------------+--------+----------+--------+---------------+--------------------+\n",
      "| title_id|title_type|       primary_title|      original_title|is_adult|start_year|end_year|runtime_minutes|              genres|\n",
      "+---------+----------+--------------------+--------------------+--------+----------+--------+---------------+--------------------+\n",
      "|tt0000001|     short|          Carmencita|          Carmencita|       0|      1894|    NULL|              1|   Documentary,Short|\n",
      "|tt0000002|     short|Le clown et ses c...|Le clown et ses c...|       0|      1892|    NULL|              5|     Animation,Short|\n",
      "|tt0000003|     short|        Poor Pierrot|      Pauvre Pierrot|       0|      1892|    NULL|              5|Animation,Comedy,...|\n",
      "|tt0000004|     short|         Un bon bock|         Un bon bock|       0|      1892|    NULL|             12|     Animation,Short|\n",
      "|tt0000005|     short|    Blacksmith Scene|    Blacksmith Scene|       0|      1893|    NULL|              1|               Short|\n",
      "|tt0000006|     short|   Chinese Opium Den|   Chinese Opium Den|       0|      1894|    NULL|              1|               Short|\n",
      "|tt0000007|     short|Corbett and Court...|Corbett and Court...|       0|      1894|    NULL|              1|         Short,Sport|\n",
      "|tt0000008|     short|Edison Kinetoscop...|Edison Kinetoscop...|       0|      1894|    NULL|              1|   Documentary,Short|\n",
      "|tt0000009|     movie|          Miss Jerry|          Miss Jerry|       0|      1894|    NULL|             45|             Romance|\n",
      "|tt0000010|     short| Leaving the Factory|La sortie de l'us...|       0|      1895|    NULL|              1|   Documentary,Short|\n",
      "+---------+----------+--------------------+--------------------+--------+----------+--------+---------------+--------------------+\n",
      "\n"
     ]
    }
   ],
   "source": [
    "spark.sql(\"SELECT * FROM demo.imdb.title_basics LIMIT 10\").show()"
   ]
  },
  {
   "cell_type": "code",
   "execution_count": 11,
   "id": "a385ffd4-614f-4ff7-9094-69671849b029",
   "metadata": {},
   "outputs": [
    {
     "data": {
      "text/plain": [
       "DataFrame[]"
      ]
     },
     "execution_count": 11,
     "metadata": {},
     "output_type": "execute_result"
    }
   ],
   "source": [
    "spark.sql(\"\"\"\n",
    "CREATE TABLE IF NOT EXISTS demo.imdb.title_akas (\n",
    "    title_id STRING,\n",
    "    ordering STRING,\n",
    "    title STRING,\n",
    "    region STRING,\n",
    "    language STRING,\n",
    "    types STRING,\n",
    "    attributes STRING,\n",
    "    is_original_title STRING\n",
    ") USING iceberg\n",
    "\"\"\")"
   ]
  },
  {
   "cell_type": "code",
   "execution_count": 12,
   "id": "9ff4988e-f3a9-411f-8dcf-19acd093c653",
   "metadata": {},
   "outputs": [
    {
     "name": "stdout",
     "output_type": "stream",
     "text": [
      "+---------+--------+--------------------+------+--------+-----------+-------------+-----------------+\n",
      "| title_id|ordering|               title|region|language|      types|   attributes|is_original_title|\n",
      "+---------+--------+--------------------+------+--------+-----------+-------------+-----------------+\n",
      "|tt0000001|       1|          Carmencita|  NULL|    NULL|   original|         NULL|                1|\n",
      "|tt0000001|       2|          Carmencita|    DE|    NULL|       NULL|literal title|                0|\n",
      "|tt0000001|       3|          Carmencita|    US|    NULL|imdbDisplay|         NULL|                0|\n",
      "|tt0000001|       4|Carmencita - span...|    HU|    NULL|imdbDisplay|         NULL|                0|\n",
      "|tt0000001|       5|          Καρμενσίτα|    GR|    NULL|imdbDisplay|         NULL|                0|\n",
      "+---------+--------+--------------------+------+--------+-----------+-------------+-----------------+\n",
      "only showing top 5 rows\n",
      "\n"
     ]
    }
   ],
   "source": [
    "title_akas_df = spark.read \\\n",
    "    .option(\"header\", True) \\\n",
    "    .option(\"sep\", \"\\t\") \\\n",
    "    .csv(\"s3a://data/imdb/year=2025/month=09/day=22/title.akas.tsv.gz\")\n",
    "\n",
    "title_akas_rename_columns_df = title_akas_df.withColumnsRenamed({\"titleId\": \"title_id\", \"isOriginalTitle\": \"is_original_title\"}) \n",
    "\n",
    "title_akas_set_null_values_df = title_akas_rename_columns_df \\\n",
    "    .withColumn(\"region\",when(col(\"region\") == \"\\\\N\", None).otherwise(col(\"region\"))) \\\n",
    "    .withColumn(\"language\",when(col(\"language\") == \"\\\\N\", None).otherwise(col(\"language\"))) \\\n",
    "    .withColumn(\"types\",when(col(\"types\") == \"\\\\N\", None).otherwise(col(\"types\"))) \\\n",
    "    .withColumn(\"attributes\",when(col(\"attributes\") == \"\\\\N\", None).otherwise(col(\"attributes\"))) \n",
    "\n",
    "title_akas_set_null_values_df.schema\n",
    "title_akas_set_null_values_df.show(5)"
   ]
  },
  {
   "cell_type": "code",
   "execution_count": 13,
   "id": "715ae777-8fd7-4638-859f-7c5e43d8bd6f",
   "metadata": {},
   "outputs": [
    {
     "name": "stderr",
     "output_type": "stream",
     "text": [
      "                                                                                "
     ]
    }
   ],
   "source": [
    "title_akas_set_null_values_df.writeTo(\"demo.imdb.title_akas\").createOrReplace()"
   ]
  },
  {
   "cell_type": "code",
   "execution_count": 15,
   "id": "04e0666c-6afb-4567-82a1-b5de7a8c3c3b",
   "metadata": {},
   "outputs": [
    {
     "name": "stdout",
     "output_type": "stream",
     "text": [
      "+---------+--------+--------------------+------+--------+-----------+-------------+-----------------+\n",
      "| title_id|ordering|               title|region|language|      types|   attributes|is_original_title|\n",
      "+---------+--------+--------------------+------+--------+-----------+-------------+-----------------+\n",
      "|tt0000001|       1|          Carmencita|  NULL|    NULL|   original|         NULL|                1|\n",
      "|tt0000001|       2|          Carmencita|    DE|    NULL|       NULL|literal title|                0|\n",
      "|tt0000001|       3|          Carmencita|    US|    NULL|imdbDisplay|         NULL|                0|\n",
      "|tt0000001|       4|Carmencita - span...|    HU|    NULL|imdbDisplay|         NULL|                0|\n",
      "|tt0000001|       5|          Καρμενσίτα|    GR|    NULL|imdbDisplay|         NULL|                0|\n",
      "|tt0000001|       6|          Карменсита|    RU|    NULL|imdbDisplay|         NULL|                0|\n",
      "|tt0000001|       7|          Карменсіта|    UA|    NULL|imdbDisplay|         NULL|                0|\n",
      "|tt0000001|       8|      カルメンチータ|    JP|      ja|imdbDisplay|         NULL|                0|\n",
      "|tt0000002|       1|Le clown et ses c...|  NULL|    NULL|   original|         NULL|                1|\n",
      "|tt0000002|       2|   A bohóc és kutyái|    HU|    NULL|imdbDisplay|         NULL|                0|\n",
      "+---------+--------+--------------------+------+--------+-----------+-------------+-----------------+\n",
      "\n"
     ]
    }
   ],
   "source": [
    "spark.sql(\"SELECT * FROM demo.imdb.title_akas LIMIT 10\").show()"
   ]
  },
  {
   "cell_type": "code",
   "execution_count": 16,
   "id": "f2e90eae-446a-4989-82f4-e055b374adf5",
   "metadata": {},
   "outputs": [
    {
     "data": {
      "text/plain": [
       "DataFrame[]"
      ]
     },
     "execution_count": 16,
     "metadata": {},
     "output_type": "execute_result"
    }
   ],
   "source": [
    "spark.sql(\"\"\"\n",
    "CREATE TABLE IF NOT EXISTS demo.imdb.title_crew (\n",
    "    title_id STRING,\n",
    "    director_id STRING,\n",
    "    writers STRING\n",
    ") USING iceberg\n",
    "\"\"\")"
   ]
  },
  {
   "cell_type": "code",
   "execution_count": 17,
   "id": "5e450592-4f67-4a76-b398-758312e49a56",
   "metadata": {},
   "outputs": [
    {
     "name": "stdout",
     "output_type": "stream",
     "text": [
      "+---------+-----------+---------+\n",
      "| title_id|director_id|  writers|\n",
      "+---------+-----------+---------+\n",
      "|tt0000001|  nm0005690|     NULL|\n",
      "|tt0000002|  nm0721526|     NULL|\n",
      "|tt0000003|  nm0721526|nm0721526|\n",
      "|tt0000004|  nm0721526|     NULL|\n",
      "|tt0000005|  nm0005690|     NULL|\n",
      "+---------+-----------+---------+\n",
      "only showing top 5 rows\n",
      "\n"
     ]
    }
   ],
   "source": [
    "title_crew_df = spark.read \\\n",
    "    .option(\"header\", True) \\\n",
    "    .option(\"sep\", \"\\t\") \\\n",
    "    .csv(\"s3a://data/imdb/year=2025/month=09/day=22/title.crew.tsv.gz\")\n",
    "\n",
    "title_crew_rename_columns_df = title_crew_df.withColumnsRenamed({\"tconst\": \"title_id\", \"directors\": \"director_id\"})\n",
    "\n",
    "title_crew_set_null_values_df = title_crew_rename_columns_df \\\n",
    "    .withColumn(\"writers\",when(col(\"writers\") == \"\\\\N\", None).otherwise(col(\"writers\"))) \n",
    "\n",
    "title_crew_set_null_values_df.schema\n",
    "title_crew_set_null_values_df.show(5)\n",
    "\n",
    "\n"
   ]
  },
  {
   "cell_type": "code",
   "execution_count": 18,
   "id": "cd587783-a9fd-4fd4-a751-d9f1bf16a95e",
   "metadata": {},
   "outputs": [
    {
     "name": "stderr",
     "output_type": "stream",
     "text": [
      "                                                                                "
     ]
    }
   ],
   "source": [
    "title_crew_set_null_values_df.writeTo(\"demo.imdb.title_crew\").createOrReplace()"
   ]
  },
  {
   "cell_type": "code",
   "execution_count": 19,
   "id": "15181864-4a40-48b5-a8df-f105494c8fcc",
   "metadata": {},
   "outputs": [
    {
     "name": "stdout",
     "output_type": "stream",
     "text": [
      "+---------+-------------------+---------+\n",
      "| title_id|        director_id|  writers|\n",
      "+---------+-------------------+---------+\n",
      "|tt0000001|          nm0005690|     NULL|\n",
      "|tt0000002|          nm0721526|     NULL|\n",
      "|tt0000003|          nm0721526|nm0721526|\n",
      "|tt0000004|          nm0721526|     NULL|\n",
      "|tt0000005|          nm0005690|     NULL|\n",
      "|tt0000006|          nm0005690|     NULL|\n",
      "|tt0000007|nm0005690,nm0374658|     NULL|\n",
      "|tt0000008|          nm0005690|     NULL|\n",
      "|tt0000009|          nm0085156|nm0085156|\n",
      "|tt0000010|          nm0525910|     NULL|\n",
      "+---------+-------------------+---------+\n",
      "\n"
     ]
    }
   ],
   "source": [
    "spark.sql(\"SELECT * FROM demo.imdb.title_crew LIMIT 10\").show()"
   ]
  },
  {
   "cell_type": "code",
   "execution_count": 20,
   "id": "c4b7f1da-c5a2-4d4a-ab6d-291de6debbb6",
   "metadata": {},
   "outputs": [
    {
     "data": {
      "text/plain": [
       "DataFrame[]"
      ]
     },
     "execution_count": 20,
     "metadata": {},
     "output_type": "execute_result"
    }
   ],
   "source": [
    "spark.sql(\"\"\"\n",
    "CREATE TABLE IF NOT EXISTS demo.imdb.title_episode (\n",
    "    title_id STRING,\n",
    "    parent_title_id STRING,\n",
    "    season_number STRING,\n",
    "    episode_number STRING\n",
    ") USING iceberg\n",
    "\"\"\")"
   ]
  },
  {
   "cell_type": "code",
   "execution_count": 21,
   "id": "d16c5803-72a0-4dfb-8aeb-4a54a971a60e",
   "metadata": {},
   "outputs": [
    {
     "name": "stdout",
     "output_type": "stream",
     "text": [
      "+---------+---------------+-------------+--------------+\n",
      "| title_id|parent_title_id|season_number|episode_number|\n",
      "+---------+---------------+-------------+--------------+\n",
      "|tt0031458|     tt32857063|         NULL|          NULL|\n",
      "|tt0041951|      tt0041038|            1|             9|\n",
      "|tt0042816|      tt0989125|            1|            17|\n",
      "|tt0042889|      tt0989125|         NULL|          NULL|\n",
      "|tt0043426|      tt0040051|            3|            42|\n",
      "+---------+---------------+-------------+--------------+\n",
      "only showing top 5 rows\n",
      "\n"
     ]
    }
   ],
   "source": [
    "title_episode_df = spark.read \\\n",
    "    .option(\"header\", True) \\\n",
    "    .option(\"sep\", \"\\t\") \\\n",
    "    .csv(\"s3a://data/imdb/year=2025/month=09/day=22/title.episode.tsv.gz\")\n",
    "\n",
    "title_episode_rename_columns_df = title_episode_df.withColumnsRenamed({\"tconst\": \"title_id\", \"parentTconst\": \"parent_title_id\", \"seasonNumber\": \"season_number\", \"episodeNumber\": \"episode_number\"})\n",
    "\n",
    "\n",
    "title_episode_set_null_values_df = title_episode_rename_columns_df \\\n",
    "    .withColumn(\"season_number\",when(col(\"season_number\") == \"\\\\N\", None).otherwise(col(\"season_number\"))) \\\n",
    "    .withColumn(\"episode_number\",when(col(\"episode_number\") == \"\\\\N\", None).otherwise(col(\"episode_number\")))\n",
    "\n",
    "# df.schema\n",
    "title_episode_set_null_values_df.show(5)"
   ]
  },
  {
   "cell_type": "code",
   "execution_count": 22,
   "id": "8551cd5b-dd15-4545-bec6-c6ec7f0f5bea",
   "metadata": {},
   "outputs": [
    {
     "name": "stderr",
     "output_type": "stream",
     "text": [
      "                                                                                "
     ]
    }
   ],
   "source": [
    "title_episode_set_null_values_df.writeTo(\"demo.imdb.title_episode\").createOrReplace()"
   ]
  },
  {
   "cell_type": "code",
   "execution_count": 23,
   "id": "de46a992-f6b4-419c-b8b4-295c12961c2f",
   "metadata": {},
   "outputs": [
    {
     "name": "stdout",
     "output_type": "stream",
     "text": [
      "+---------+---------------+-------------+--------------+\n",
      "| title_id|parent_title_id|season_number|episode_number|\n",
      "+---------+---------------+-------------+--------------+\n",
      "|tt0031458|     tt32857063|         NULL|          NULL|\n",
      "|tt0041951|      tt0041038|            1|             9|\n",
      "|tt0042816|      tt0989125|            1|            17|\n",
      "|tt0042889|      tt0989125|         NULL|          NULL|\n",
      "|tt0043426|      tt0040051|            3|            42|\n",
      "|tt0043631|      tt0989125|            2|            16|\n",
      "|tt0043693|      tt0989125|            2|             8|\n",
      "|tt0043710|      tt0989125|            3|             3|\n",
      "|tt0044093|      tt0959862|            1|             6|\n",
      "|tt0044668|      tt0044243|            2|            16|\n",
      "+---------+---------------+-------------+--------------+\n",
      "\n"
     ]
    }
   ],
   "source": [
    "spark.sql(\"SELECT * FROM demo.imdb.title_episode LIMIT 10\").show()"
   ]
  },
  {
   "cell_type": "code",
   "execution_count": 25,
   "id": "8f560cdd-bb0d-4912-a97f-fe85c1674d51",
   "metadata": {},
   "outputs": [
    {
     "data": {
      "text/plain": [
       "DataFrame[]"
      ]
     },
     "execution_count": 25,
     "metadata": {},
     "output_type": "execute_result"
    }
   ],
   "source": [
    "spark.sql(\"\"\"\n",
    "CREATE TABLE IF NOT EXISTS demo.imdb.title_principals (\n",
    "    title_id STRING,\n",
    "    ordering STRING,\n",
    "    name_id STRING,\n",
    "    category STRING,\n",
    "    job STRING,\n",
    "    characters STRING\n",
    ") USING iceberg\n",
    "\"\"\")"
   ]
  },
  {
   "cell_type": "code",
   "execution_count": null,
   "id": "63fe4e41-45aa-48fd-bc87-dcfdadfecf86",
   "metadata": {},
   "outputs": [],
   "source": []
  },
  {
   "cell_type": "code",
   "execution_count": 26,
   "id": "24f892d9-1b73-4a87-a256-7831a43fb9ab",
   "metadata": {},
   "outputs": [
    {
     "name": "stdout",
     "output_type": "stream",
     "text": [
      "+---------+--------+---------+---------------+--------------------+----------+\n",
      "| title_id|ordering|  name_id|       category|                 job|characters|\n",
      "+---------+--------+---------+---------------+--------------------+----------+\n",
      "|tt0000001|       1|nm1588970|           self|                NULL|  [\"Self\"]|\n",
      "|tt0000001|       2|nm0005690|       director|                NULL|      NULL|\n",
      "|tt0000001|       3|nm0005690|       producer|            producer|      NULL|\n",
      "|tt0000001|       4|nm0374658|cinematographer|director of photo...|      NULL|\n",
      "|tt0000002|       1|nm0721526|       director|                NULL|      NULL|\n",
      "+---------+--------+---------+---------------+--------------------+----------+\n",
      "only showing top 5 rows\n",
      "\n"
     ]
    }
   ],
   "source": [
    "title_principals_df = spark.read \\\n",
    "    .option(\"header\", True) \\\n",
    "    .option(\"sep\", \"\\t\") \\\n",
    "    .csv(\"s3a://data/imdb/year=2025/month=09/day=22/title.principals.tsv.gz\")\n",
    "\n",
    "title_principals_rename_columns_df = title_principals_df.withColumnsRenamed({\"tconst\": \"title_id\", \"nconst\": \"name_id\"})\n",
    "\n",
    "title_principals_set_null_values_df = title_principals_rename_columns_df \\\n",
    "    .withColumn(\"job\",when(col(\"job\") == \"\\\\N\", None).otherwise(col(\"job\"))) \\\n",
    "    .withColumn(\"characters\",when(col(\"characters\") == \"\\\\N\", None).otherwise(col(\"characters\")))\n",
    "\n",
    "# df.schema\n",
    "title_principals_set_null_values_df.show(5)"
   ]
  },
  {
   "cell_type": "code",
   "execution_count": null,
   "id": "557f6d83-ccf9-43b4-bf23-5be40ddd0276",
   "metadata": {},
   "outputs": [
    {
     "name": "stderr",
     "output_type": "stream",
     "text": [
      "[Stage 21:>                                                         (0 + 1) / 1]"
     ]
    }
   ],
   "source": [
    "title_principals_set_null_values_df.writeTo(\"demo.imdb.title_principals\").createOrReplace()"
   ]
  },
  {
   "cell_type": "code",
   "execution_count": null,
   "id": "bc28103e-a21f-4e2d-8d3b-48420835d735",
   "metadata": {},
   "outputs": [],
   "source": [
    "spark.sql(\"SELECT * FROM demo.imdb.title_principals LIMIT 10\").show()"
   ]
  },
  {
   "cell_type": "code",
   "execution_count": 42,
   "id": "14c5c381-d7f8-4600-ad02-7145f70440e6",
   "metadata": {},
   "outputs": [
    {
     "data": {
      "text/plain": [
       "DataFrame[]"
      ]
     },
     "execution_count": 42,
     "metadata": {},
     "output_type": "execute_result"
    }
   ],
   "source": [
    "spark.sql(\"\"\"\n",
    "CREATE TABLE IF NOT EXISTS demo.imdb.title_ratings (\n",
    "    title_id STRING,\n",
    "    average_rating STRING,\n",
    "    num_votes STRING\n",
    ") USING iceberg\n",
    "\"\"\")"
   ]
  },
  {
   "cell_type": "code",
   "execution_count": 16,
   "id": "db142521-7c5b-4a64-b8c9-a5a3f14b3e41",
   "metadata": {},
   "outputs": [
    {
     "name": "stdout",
     "output_type": "stream",
     "text": [
      "+---------+--------------+---------+\n",
      "| title_id|average_rating|num_votes|\n",
      "+---------+--------------+---------+\n",
      "|tt0000001|           5.7|     2181|\n",
      "|tt0000002|           5.5|      301|\n",
      "|tt0000003|           6.4|     2248|\n",
      "|tt0000004|           5.2|      194|\n",
      "|tt0000005|           6.2|     2990|\n",
      "+---------+--------------+---------+\n",
      "only showing top 5 rows\n",
      "\n"
     ]
    }
   ],
   "source": [
    "ratings_df = spark.read \\\n",
    "    .option(\"header\", True) \\\n",
    "    .option(\"sep\", \"\\t\") \\\n",
    "    .csv(\"s3a://data/imdb/year=2025/month=09/day=22/title.ratings.tsv.gz\")\n",
    "\n",
    "ratings_rename_columns_df = ratings_df.withColumnsRenamed({\"tconst\": \"title_id\", \"averageRating\": \"average_rating\", \"numVotes\": \"num_votes\"})\n",
    "\n",
    "# df.schema\n",
    "ratings_rename_columns_df.show(5)\n"
   ]
  },
  {
   "cell_type": "code",
   "execution_count": 43,
   "id": "298e94e1-4dd7-4b0a-ac62-d730064c100d",
   "metadata": {},
   "outputs": [
    {
     "name": "stderr",
     "output_type": "stream",
     "text": [
      "                                                                                "
     ]
    }
   ],
   "source": [
    "set_null_values_df.writeTo(\"demo.imdb.title_ratings\").createOrReplace()"
   ]
  },
  {
   "cell_type": "code",
   "execution_count": 45,
   "id": "4eeadd46-1fe1-4e1d-aee2-1e79d38567a6",
   "metadata": {},
   "outputs": [
    {
     "data": {
      "text/plain": [
       "DataFrame[]"
      ]
     },
     "execution_count": 45,
     "metadata": {},
     "output_type": "execute_result"
    }
   ],
   "source": [
    "spark.sql(\"\"\"\n",
    "CREATE TABLE IF NOT EXISTS demo.imdb.name_basics (\n",
    "    id STRING,\n",
    "    primary_name STRING,\n",
    "    birth_year STRING,\n",
    "    death_year STRING,\n",
    "    primary_profession STRING,\n",
    "    titles STRING\n",
    ") USING iceberg\n",
    "\"\"\")"
   ]
  },
  {
   "cell_type": "code",
   "execution_count": 3,
   "id": "f0e6a330-4fdc-4c0b-b3df-a982e253cc14",
   "metadata": {},
   "outputs": [
    {
     "name": "stdout",
     "output_type": "stream",
     "text": [
      "+---------+---------------+----------+----------+--------------------+--------------------+\n",
      "|       id|   primary_name|birth_year|death_year|  primary_profession|              titles|\n",
      "+---------+---------------+----------+----------+--------------------+--------------------+\n",
      "|nm0000001|   Fred Astaire|      1899|      1987|actor,miscellaneo...|tt0072308,tt00504...|\n",
      "|nm0000002|  Lauren Bacall|      1924|      2014|actress,soundtrac...|tt0037382,tt00752...|\n",
      "|nm0000003|Brigitte Bardot|      1934|      NULL|actress,music_dep...|tt0057345,tt00491...|\n",
      "|nm0000004|   John Belushi|      1949|      1982|actor,writer,musi...|tt0072562,tt00779...|\n",
      "|nm0000005| Ingmar Bergman|      1918|      2007|writer,director,a...|tt0050986,tt00694...|\n",
      "+---------+---------------+----------+----------+--------------------+--------------------+\n",
      "only showing top 5 rows\n",
      "\n"
     ]
    }
   ],
   "source": [
    "name_basics_df = spark.read \\\n",
    "    .option(\"header\", True) \\\n",
    "    .option(\"sep\", \"\\t\") \\\n",
    "    .csv(\"s3a://data/imdb/year=2025/month=09/day=22/name.basics.tsv.gz\")\n",
    "\n",
    "# name_basics_df.schema\n",
    "# name_basics_df.show(5)\n",
    "\n",
    "from pyspark.sql.functions import col, when\n",
    "\n",
    "\n",
    "name_rename_columns_df = name_basics_df .withColumnsRenamed({\"nconst\": \"id\", \"primaryName\": \"primary_name\", \"birthYear\": \"birth_year\", \"deathYear\": \"death_year\", \"primaryProfession\": \"primary_profession\", \"knownForTitles\": \"titles\"})\n",
    "set_null_death_year_df = name_rename_columns_df.withColumn(\"death_year\",when(col(\"death_year\") == \"\\\\N\", None).otherwise(col(\"death_year\")))\n",
    "\n",
    "set_null_death_year_df.show(5)\n"
   ]
  },
  {
   "cell_type": "code",
   "execution_count": 46,
   "id": "97fad27a-56df-4888-8199-dbbcd374dda0",
   "metadata": {},
   "outputs": [
    {
     "name": "stderr",
     "output_type": "stream",
     "text": [
      "                                                                                "
     ]
    }
   ],
   "source": [
    "set_null_values_df.writeTo(\"demo.imdb.name_basics\").createOrReplace()"
   ]
  },
  {
   "cell_type": "code",
   "execution_count": 59,
   "id": "fe786f5f-090c-4600-9ef3-67173872802b",
   "metadata": {},
   "outputs": [
    {
     "name": "stdout",
     "output_type": "stream",
     "text": [
      "+---------+----------------+-----------+\n",
      "|namespace|       tableName|isTemporary|\n",
      "+---------+----------------+-----------+\n",
      "|     imdb|     name_basics|      false|\n",
      "|     imdb|      title_akas|      false|\n",
      "|     imdb|    title_basics|      false|\n",
      "|     imdb|      title_crew|      false|\n",
      "|     imdb|   title_episode|      false|\n",
      "|     imdb|title_principals|      false|\n",
      "|     imdb|   title_ratings|      false|\n",
      "+---------+----------------+-----------+\n",
      "\n"
     ]
    }
   ],
   "source": [
    "spark.sql(\"SHOW TABLES IN demo.imdb\").show()\n"
   ]
  },
  {
   "cell_type": "code",
   "execution_count": 51,
   "id": "2f5dfc31-9b1c-43e9-858c-20c3113b1ff9",
   "metadata": {},
   "outputs": [
    {
     "name": "stdout",
     "output_type": "stream",
     "text": [
      "+---------+----------+--------------------+--------------------+--------+----------+--------+---------------+--------------------+\n",
      "| title_id|title_type|       primary_title|      original_title|is_adult|start_year|end_year|runtime_minutes|              genres|\n",
      "+---------+----------+--------------------+--------------------+--------+----------+--------+---------------+--------------------+\n",
      "|tt0000001|     short|          Carmencita|          Carmencita|       0|      1894|    NULL|              1|   Documentary,Short|\n",
      "|tt0000002|     short|Le clown et ses c...|Le clown et ses c...|       0|      1892|    NULL|              5|     Animation,Short|\n",
      "|tt0000003|     short|        Poor Pierrot|      Pauvre Pierrot|       0|      1892|    NULL|              5|Animation,Comedy,...|\n",
      "|tt0000004|     short|         Un bon bock|         Un bon bock|       0|      1892|    NULL|             12|     Animation,Short|\n",
      "|tt0000005|     short|    Blacksmith Scene|    Blacksmith Scene|       0|      1893|    NULL|              1|               Short|\n",
      "|tt0000006|     short|   Chinese Opium Den|   Chinese Opium Den|       0|      1894|    NULL|              1|               Short|\n",
      "|tt0000007|     short|Corbett and Court...|Corbett and Court...|       0|      1894|    NULL|              1|         Short,Sport|\n",
      "|tt0000008|     short|Edison Kinetoscop...|Edison Kinetoscop...|       0|      1894|    NULL|              1|   Documentary,Short|\n",
      "|tt0000009|     movie|          Miss Jerry|          Miss Jerry|       0|      1894|    NULL|             45|             Romance|\n",
      "|tt0000010|     short| Leaving the Factory|La sortie de l'us...|       0|      1895|    NULL|              1|   Documentary,Short|\n",
      "+---------+----------+--------------------+--------------------+--------+----------+--------+---------------+--------------------+\n",
      "\n"
     ]
    }
   ],
   "source": [
    "spark.sql(\"SELECT * FROM demo.imdb.title_basics LIMIT 10\").show()"
   ]
  },
  {
   "cell_type": "code",
   "execution_count": null,
   "id": "9d0ba67b-0932-41af-9d80-a845ed817570",
   "metadata": {},
   "outputs": [],
   "source": []
  }
 ],
 "metadata": {
  "kernelspec": {
   "display_name": "Python 3 (ipykernel)",
   "language": "python",
   "name": "python3"
  },
  "language_info": {
   "codemirror_mode": {
    "name": "ipython",
    "version": 3
   },
   "file_extension": ".py",
   "mimetype": "text/x-python",
   "name": "python",
   "nbconvert_exporter": "python",
   "pygments_lexer": "ipython3",
   "version": "3.10.16"
  }
 },
 "nbformat": 4,
 "nbformat_minor": 5
}
