{
 "cells": [
  {
   "cell_type": "code",
   "execution_count": 20,
   "id": "5e88738d-266e-452b-b033-7406071134cc",
   "metadata": {},
   "outputs": [
    {
     "name": "stdout",
     "output_type": "stream",
     "text": [
      "+---------+---------+--------------------+--------------------+-------+---------+-------+--------------+--------------------+\n",
      "|   tconst|titleType|        primaryTitle|       originalTitle|isAdult|startYear|endYear|runtimeMinutes|              genres|\n",
      "+---------+---------+--------------------+--------------------+-------+---------+-------+--------------+--------------------+\n",
      "|tt0000001|    short|          Carmencita|          Carmencita|      0|     1894|     \\N|             1|   Documentary,Short|\n",
      "|tt0000002|    short|Le clown et ses c...|Le clown et ses c...|      0|     1892|     \\N|             5|     Animation,Short|\n",
      "|tt0000003|    short|        Poor Pierrot|      Pauvre Pierrot|      0|     1892|     \\N|             5|Animation,Comedy,...|\n",
      "|tt0000004|    short|         Un bon bock|         Un bon bock|      0|     1892|     \\N|            12|     Animation,Short|\n",
      "|tt0000005|    short|    Blacksmith Scene|    Blacksmith Scene|      0|     1893|     \\N|             1|               Short|\n",
      "+---------+---------+--------------------+--------------------+-------+---------+-------+--------------+--------------------+\n",
      "only showing top 5 rows\n",
      "\n"
     ]
    }
   ],
   "source": [
    "from pyspark.sql import SparkSession\n",
    "\n",
    "spark = SparkSession.builder \\\n",
    "    .appName(\"IMDB Ingestion\") \\\n",
    "    .getOrCreate()\n",
    "\n",
    "# Read a file from MinIO\n",
    "df = spark.read \\\n",
    "    .option(\"header\", True) \\\n",
    "    .option(\"sep\", \"\\t\") \\\n",
    "    .csv(\"s3a://data/imdb/year=2025/month=09/day=17/title.basics.tsv.gz\")\n",
    "\n",
    "df.schema\n",
    "df.show(5)\n",
    "\n"
   ]
  },
  {
   "cell_type": "code",
   "execution_count": 6,
   "id": "9ff4988e-f3a9-411f-8dcf-19acd093c653",
   "metadata": {},
   "outputs": [
    {
     "name": "stdout",
     "output_type": "stream",
     "text": [
      "+---------+--------+--------------------+------+--------+-----------+-------------+---------------+\n",
      "|  titleId|ordering|               title|region|language|      types|   attributes|isOriginalTitle|\n",
      "+---------+--------+--------------------+------+--------+-----------+-------------+---------------+\n",
      "|tt0000001|       1|          Carmencita|    \\N|      \\N|   original|           \\N|              1|\n",
      "|tt0000001|       2|          Carmencita|    DE|      \\N|         \\N|literal title|              0|\n",
      "|tt0000001|       3|          Carmencita|    US|      \\N|imdbDisplay|           \\N|              0|\n",
      "|tt0000001|       4|Carmencita - span...|    HU|      \\N|imdbDisplay|           \\N|              0|\n",
      "|tt0000001|       5|          Καρμενσίτα|    GR|      \\N|imdbDisplay|           \\N|              0|\n",
      "+---------+--------+--------------------+------+--------+-----------+-------------+---------------+\n",
      "only showing top 5 rows\n",
      "\n"
     ]
    }
   ],
   "source": [
    "df = spark.read \\\n",
    "    .option(\"header\", True) \\\n",
    "    .option(\"sep\", \"\\t\") \\\n",
    "    .csv(\"s3a://data/imdb/year=2025/month=09/day=17/title.akas.tsv.gz\")\n",
    "\n",
    "df.schema\n",
    "df.show(5)"
   ]
  },
  {
   "cell_type": "code",
   "execution_count": 66,
   "id": "5e450592-4f67-4a76-b398-758312e49a56",
   "metadata": {},
   "outputs": [
    {
     "name": "stdout",
     "output_type": "stream",
     "text": [
      "+---------+-----------+---------+\n",
      "| title_id|director_id|  writers|\n",
      "+---------+-----------+---------+\n",
      "|tt0000001|  nm0005690|       \\N|\n",
      "|tt0000002|  nm0721526|       \\N|\n",
      "|tt0000003|  nm0721526|nm0721526|\n",
      "|tt0000004|  nm0721526|       \\N|\n",
      "|tt0000005|  nm0005690|       \\N|\n",
      "+---------+-----------+---------+\n",
      "only showing top 5 rows\n",
      "\n"
     ]
    }
   ],
   "source": [
    "title_crew_df = spark.read \\\n",
    "    .option(\"header\", True) \\\n",
    "    .option(\"sep\", \"\\t\") \\\n",
    "    .csv(\"s3a://data/imdb/year=2025/month=09/day=17/title.crew.tsv.gz\")\n",
    "\n",
    "title_crew_rename_columns_df = title_crew_df.withColumnsRenamed({\"tconst\": \"title_id\", \"directors\": \"director_id\"})\n",
    "\n",
    "\n",
    "title_crew_rename_columns_df.schema\n",
    "title_crew_rename_columns_df.show(5)"
   ]
  },
  {
   "cell_type": "code",
   "execution_count": 63,
   "id": "d16c5803-72a0-4dfb-8aeb-4a54a971a60e",
   "metadata": {},
   "outputs": [
    {
     "name": "stdout",
     "output_type": "stream",
     "text": [
      "+--------+---------------+-------------+--------------+\n",
      "|title_id|parent_title_id|season_number|episode_number|\n",
      "+--------+---------------+-------------+--------------+\n",
      "+--------+---------------+-------------+--------------+\n",
      "\n",
      "+---------+---------------+-------------+--------------+\n",
      "| title_id|parent_title_id|season_number|episode_number|\n",
      "+---------+---------------+-------------+--------------+\n",
      "|tt0031458|     tt32857063|         NULL|          NULL|\n",
      "|tt0041951|      tt0041038|            1|             9|\n",
      "|tt0042816|      tt0989125|            1|            17|\n",
      "|tt0042889|      tt0989125|         NULL|          NULL|\n",
      "|tt0043426|      tt0040051|            3|            42|\n",
      "+---------+---------------+-------------+--------------+\n",
      "only showing top 5 rows\n",
      "\n"
     ]
    }
   ],
   "source": [
    "title_episode_df = spark.read \\\n",
    "    .option(\"header\", True) \\\n",
    "    .option(\"sep\", \"\\t\") \\\n",
    "    .csv(\"s3a://data/imdb/year=2025/month=09/day=17/title.episode.tsv.gz\")\n",
    "\n",
    "title_episode_rename_columns_df = title_episode_df.withColumnsRenamed({\"tconst\": \"title_id\", \"parentTconst\": \"parent_title_id\", \"seasonNumber\": \"season_number\", \"episodeNumber\": \"episode_number\"})\n",
    "\n",
    "\n",
    "set_null_values_df = title_episode_rename_columns_df \\\n",
    "    .withColumn(\"season_number\",when(col(\"season_number\") == \"\\\\N\", None).otherwise(col(\"season_number\"))) \\\n",
    "    .withColumn(\"episode_number\",when(col(\"episode_number\") == \"\\\\N\", None).otherwise(col(\"episode_number\")))\n",
    "\n",
    "set_null_values_df.filter\n",
    "# df.schema\n",
    "set_null_values_df.show(5)"
   ]
  },
  {
   "cell_type": "code",
   "execution_count": 60,
   "id": "24f892d9-1b73-4a87-a256-7831a43fb9ab",
   "metadata": {},
   "outputs": [
    {
     "name": "stdout",
     "output_type": "stream",
     "text": [
      "+---------+--------+---------+---------------+--------------------+----------+\n",
      "| title_id|ordering|  name_id|       category|                 job|characters|\n",
      "+---------+--------+---------+---------------+--------------------+----------+\n",
      "|tt0000001|       1|nm1588970|           self|                NULL|  [\"Self\"]|\n",
      "|tt0000001|       2|nm0005690|       director|                NULL|      NULL|\n",
      "|tt0000001|       3|nm0005690|       producer|            producer|      NULL|\n",
      "|tt0000001|       4|nm0374658|cinematographer|director of photo...|      NULL|\n",
      "|tt0000002|       1|nm0721526|       director|                NULL|      NULL|\n",
      "+---------+--------+---------+---------------+--------------------+----------+\n",
      "only showing top 5 rows\n",
      "\n"
     ]
    }
   ],
   "source": [
    "title_principals_df = spark.read \\\n",
    "    .option(\"header\", True) \\\n",
    "    .option(\"sep\", \"\\t\") \\\n",
    "    .csv(\"s3a://data/imdb/year=2025/month=09/day=17/title.principals.tsv.gz\")\n",
    "\n",
    "title_principals_rename_columns_df = title_principals_df.withColumnsRenamed({\"tconst\": \"title_id\", \"nconst\": \"name_id\"})\n",
    "\n",
    "set_null_values_df = title_principals_rename_columns_df \\\n",
    "    .withColumn(\"job\",when(col(\"job\") == \"\\\\N\", None).otherwise(col(\"job\"))) \\\n",
    "    .withColumn(\"characters\",when(col(\"characters\") == \"\\\\N\", None).otherwise(col(\"characters\")))\n",
    "\n",
    "# df.schema\n",
    "set_null_values_df.show(5)"
   ]
  },
  {
   "cell_type": "code",
   "execution_count": 56,
   "id": "db142521-7c5b-4a64-b8c9-a5a3f14b3e41",
   "metadata": {},
   "outputs": [
    {
     "name": "stdout",
     "output_type": "stream",
     "text": [
      "+---------+--------------+---------+\n",
      "| title_id|average_rating|num_votes|\n",
      "+---------+--------------+---------+\n",
      "|tt0000001|           5.7|     2178|\n",
      "|tt0000002|           5.5|      299|\n",
      "|tt0000003|           6.4|     2245|\n",
      "|tt0000004|           5.2|      193|\n",
      "|tt0000005|           6.2|     2989|\n",
      "+---------+--------------+---------+\n",
      "only showing top 5 rows\n",
      "\n"
     ]
    }
   ],
   "source": [
    "ratings_df = spark.read \\\n",
    "    .option(\"header\", True) \\\n",
    "    .option(\"sep\", \"\\t\") \\\n",
    "    .csv(\"s3a://data/imdb/year=2025/month=09/day=17/title.ratings.tsv.gz\")\n",
    "\n",
    "ratings_rename_columns_df = ratings_df.withColumnsRenamed({\"tconst\": \"title_id\", \"averageRating\": \"average_rating\", \"numVotes\": \"num_votes\"})\n",
    "\n",
    "# df.schema\n",
    "ratings_rename_columns_df.show(5)\n"
   ]
  },
  {
   "cell_type": "code",
   "execution_count": 47,
   "id": "f0e6a330-4fdc-4c0b-b3df-a982e253cc14",
   "metadata": {},
   "outputs": [
    {
     "name": "stdout",
     "output_type": "stream",
     "text": [
      "+---------+---------------+----------+----------+--------------------+--------------------+\n",
      "|       id|   primary_name|birth_year|death_year|  primary_profession|              titles|\n",
      "+---------+---------------+----------+----------+--------------------+--------------------+\n",
      "|nm0000001|   Fred Astaire|      1899|      1987|actor,miscellaneo...|tt0050419,tt00723...|\n",
      "|nm0000002|  Lauren Bacall|      1924|      2014|actress,soundtrac...|tt0037382,tt00752...|\n",
      "|nm0000003|Brigitte Bardot|      1934|      NULL|actress,music_dep...|tt0057345,tt00491...|\n",
      "|nm0000004|   John Belushi|      1949|      1982|actor,writer,musi...|tt0072562,tt00779...|\n",
      "|nm0000005| Ingmar Bergman|      1918|      2007|writer,director,a...|tt0050986,tt00694...|\n",
      "+---------+---------------+----------+----------+--------------------+--------------------+\n",
      "only showing top 5 rows\n",
      "\n",
      "+---+------------+----------+----------+------------------+------+\n",
      "| id|primary_name|birth_year|death_year|primary_profession|titles|\n",
      "+---+------------+----------+----------+------------------+------+\n",
      "+---+------------+----------+----------+------------------+------+\n",
      "\n"
     ]
    }
   ],
   "source": [
    "name_basics_df = spark.read \\\n",
    "    .option(\"header\", True) \\\n",
    "    .option(\"sep\", \"\\t\") \\\n",
    "    .csv(\"s3a://data/imdb/year=2025/month=09/day=17/name.basics.tsv.gz\")\n",
    "\n",
    "# name_basics_df.schema\n",
    "# name_basics_df.show(5)\n",
    "\n",
    "from pyspark.sql.functions import col, when\n",
    "\n",
    "\n",
    "name_rename_columns_df = name_basics_df .withColumnsRenamed({\"nconst\": \"id\", \"primaryName\": \"primary_name\", \"birthYear\": \"birth_year\", \"deathYear\": \"death_year\", \"primaryProfession\": \"primary_profession\", \"knownForTitles\": \"titles\"})\n",
    "set_null_death_year_df = name_rename_columns_df.withColumn(\"death_year\",when(col(\"death_year\") == \"\\\\N\", None).otherwise(col(\"death_year\")))\n",
    "\n",
    "set_null_death_year_df.show(5)\n"
   ]
  },
  {
   "cell_type": "code",
   "execution_count": null,
   "id": "fe786f5f-090c-4600-9ef3-67173872802b",
   "metadata": {},
   "outputs": [],
   "source": []
  }
 ],
 "metadata": {
  "kernelspec": {
   "display_name": "Python 3 (ipykernel)",
   "language": "python",
   "name": "python3"
  },
  "language_info": {
   "codemirror_mode": {
    "name": "ipython",
    "version": 3
   },
   "file_extension": ".py",
   "mimetype": "text/x-python",
   "name": "python",
   "nbconvert_exporter": "python",
   "pygments_lexer": "ipython3",
   "version": "3.11.6"
  }
 },
 "nbformat": 4,
 "nbformat_minor": 5
}
