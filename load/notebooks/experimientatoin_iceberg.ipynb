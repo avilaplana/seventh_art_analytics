{
 "cells": [
  {
   "cell_type": "code",
   "execution_count": 1,
   "id": "3905dd95-04d7-4240-9746-1548ef3fd798",
   "metadata": {},
   "outputs": [
    {
     "name": "stderr",
     "output_type": "stream",
     "text": [
      "25/10/22 09:33:41 WARN SparkSession: Using an existing Spark session; only runtime SQL configurations will take effect.\n"
     ]
    },
    {
     "name": "stdout",
     "output_type": "stream",
     "text": [
      "+---------+-------------------+----------+----------+--------------------+--------------------+\n",
      "|       id|       primary_name|birth_year|death_year|  primary_profession|              titles|\n",
      "+---------+-------------------+----------+----------+--------------------+--------------------+\n",
      "|nm0000001|       Fred Astaire|      1899|      1987|actor,miscellaneo...|tt0050419,tt00723...|\n",
      "|nm0000002|      Lauren Bacall|      1924|      2014|actress,soundtrac...|tt0037382,tt00752...|\n",
      "|nm0000003|    Brigitte Bardot|      1934|      NULL|actress,music_dep...|tt0057345,tt00491...|\n",
      "|nm0000004|       John Belushi|      1949|      1982|actor,writer,musi...|tt0072562,tt00779...|\n",
      "|nm0000005|     Ingmar Bergman|      1918|      2007|writer,director,a...|tt0050986,tt00694...|\n",
      "|nm0000006|     Ingrid Bergman|      1915|      1982|actress,producer,...|tt0034583,tt00381...|\n",
      "|nm0000007|    Humphrey Bogart|      1899|      1957|actor,producer,mi...|tt0034583,tt00432...|\n",
      "|nm0000008|      Marlon Brando|      1924|      2004|actor,director,wr...|tt0078788,tt00686...|\n",
      "|nm0000009|     Richard Burton|      1925|      1984|actor,producer,di...|tt0061184,tt00878...|\n",
      "|nm0000010|       James Cagney|      1899|      1986|actor,director,pr...|tt0029870,tt00318...|\n",
      "|nm0000011|        Gary Cooper|      1901|      1961|actor,stunts,prod...|tt0044706,tt00341...|\n",
      "|nm0000012|        Bette Davis|      1908|      1989|actress,make_up_d...|tt0042192,tt00566...|\n",
      "|nm0000013|          Doris Day|      1922|      2019|actress,producer,...|tt0048317,tt00455...|\n",
      "|nm0000014|Olivia de Havilland|      1916|      2020|actress,soundtrac...|tt0031381,tt00414...|\n",
      "|nm0000015|         James Dean|      1931|      1955|actor,miscellaneo...|tt0048028,tt00485...|\n",
      "|nm0000016|    Georges Delerue|      1925|      1992|composer,music_de...|tt0091763,tt00963...|\n",
      "|nm0000017|   Marlene Dietrich|      1901|      1992|actress,music_dep...|tt0051201,tt00211...|\n",
      "|nm0000018|       Kirk Douglas|      1916|      2020|actor,producer,di...|tt0043338,tt00807...|\n",
      "|nm0000019|   Federico Fellini|      1920|      1993|writer,director,a...|tt0056801,tt00537...|\n",
      "|nm0000020|        Henry Fonda|      1905|      1982|actor,producer,mi...|tt0050083,tt00828...|\n",
      "+---------+-------------------+----------+----------+--------------------+--------------------+\n",
      "only showing top 20 rows\n",
      "\n"
     ]
    }
   ],
   "source": [
    "from pyspark.sql import SparkSession\n",
    "from pyspark.sql.functions import col, when\n",
    "\n",
    "spark = SparkSession.builder \\\n",
    "    .appName(\"experimentation-data-icebertg\") \\\n",
    "    .getOrCreate()\n",
    "\n",
    "\n"
   ]
  },
  {
   "cell_type": "code",
   "execution_count": 2,
   "id": "073fb3a7-52fd-432c-9cd2-08e8bd48c78f",
   "metadata": {},
   "outputs": [
    {
     "name": "stdout",
     "output_type": "stream",
     "text": [
      "+---------+-------------------+----------+----------+--------------------+--------------------+\n",
      "|       id|       primary_name|birth_year|death_year|  primary_profession|              titles|\n",
      "+---------+-------------------+----------+----------+--------------------+--------------------+\n",
      "|nm0000001|       Fred Astaire|      1899|      1987|actor,miscellaneo...|tt0050419,tt00723...|\n",
      "|nm0000002|      Lauren Bacall|      1924|      2014|actress,soundtrac...|tt0037382,tt00752...|\n",
      "|nm0000003|    Brigitte Bardot|      1934|      NULL|actress,music_dep...|tt0057345,tt00491...|\n",
      "|nm0000004|       John Belushi|      1949|      1982|actor,writer,musi...|tt0072562,tt00779...|\n",
      "|nm0000005|     Ingmar Bergman|      1918|      2007|writer,director,a...|tt0050986,tt00694...|\n",
      "|nm0000006|     Ingrid Bergman|      1915|      1982|actress,producer,...|tt0034583,tt00381...|\n",
      "|nm0000007|    Humphrey Bogart|      1899|      1957|actor,producer,mi...|tt0034583,tt00432...|\n",
      "|nm0000008|      Marlon Brando|      1924|      2004|actor,director,wr...|tt0078788,tt00686...|\n",
      "|nm0000009|     Richard Burton|      1925|      1984|actor,producer,di...|tt0061184,tt00878...|\n",
      "|nm0000010|       James Cagney|      1899|      1986|actor,director,pr...|tt0029870,tt00318...|\n",
      "|nm0000011|        Gary Cooper|      1901|      1961|actor,stunts,prod...|tt0044706,tt00341...|\n",
      "|nm0000012|        Bette Davis|      1908|      1989|actress,make_up_d...|tt0042192,tt00566...|\n",
      "|nm0000013|          Doris Day|      1922|      2019|actress,producer,...|tt0048317,tt00455...|\n",
      "|nm0000014|Olivia de Havilland|      1916|      2020|actress,soundtrac...|tt0031381,tt00414...|\n",
      "|nm0000015|         James Dean|      1931|      1955|actor,miscellaneo...|tt0048028,tt00485...|\n",
      "|nm0000016|    Georges Delerue|      1925|      1992|composer,music_de...|tt0091763,tt00963...|\n",
      "|nm0000017|   Marlene Dietrich|      1901|      1992|actress,music_dep...|tt0051201,tt00211...|\n",
      "|nm0000018|       Kirk Douglas|      1916|      2020|actor,producer,di...|tt0043338,tt00807...|\n",
      "|nm0000019|   Federico Fellini|      1920|      1993|writer,director,a...|tt0056801,tt00537...|\n",
      "|nm0000020|        Henry Fonda|      1905|      1982|actor,producer,mi...|tt0050083,tt00828...|\n",
      "+---------+-------------------+----------+----------+--------------------+--------------------+\n",
      "only showing top 20 rows\n",
      "\n"
     ]
    }
   ],
   "source": [
    "name_basics_df = spark.table(\"demo.imdb.name_basics\")\n",
    "name_basics_df.show()\n"
   ]
  },
  {
   "cell_type": "code",
   "execution_count": 3,
   "id": "5ba6ba51-c74b-433e-a8bf-7d060c110f3c",
   "metadata": {},
   "outputs": [
    {
     "name": "stdout",
     "output_type": "stream",
     "text": [
      "+---------+--------+--------------------+------+--------+-----------+--------------------+-----------------+\n",
      "| title_id|ordering|               title|region|language|      types|          attributes|is_original_title|\n",
      "+---------+--------+--------------------+------+--------+-----------+--------------------+-----------------+\n",
      "|tt0000001|       1|          Carmencita|  NULL|    NULL|   original|                NULL|                1|\n",
      "|tt0000001|       2|          Carmencita|    DE|    NULL|       NULL|       literal title|                0|\n",
      "|tt0000001|       3|          Carmencita|    US|    NULL|imdbDisplay|                NULL|                0|\n",
      "|tt0000001|       4|Carmencita - span...|    HU|    NULL|imdbDisplay|                NULL|                0|\n",
      "|tt0000001|       5|          Καρμενσίτα|    GR|    NULL|imdbDisplay|                NULL|                0|\n",
      "|tt0000001|       6|          Карменсита|    RU|    NULL|imdbDisplay|                NULL|                0|\n",
      "|tt0000001|       7|          Карменсіта|    UA|    NULL|imdbDisplay|                NULL|                0|\n",
      "|tt0000001|       8|      カルメンチータ|    JP|      ja|imdbDisplay|                NULL|                0|\n",
      "|tt0000002|       1|Le clown et ses c...|  NULL|    NULL|   original|                NULL|                1|\n",
      "|tt0000002|       2|   A bohóc és kutyái|    HU|    NULL|imdbDisplay|                NULL|                0|\n",
      "|tt0000002|       3|Clovnul si cainii...|    RO|    NULL|imdbDisplay|                NULL|                0|\n",
      "|tt0000002|       4|Der Clown und sei...|    DE|    NULL|       NULL|       literal title|                0|\n",
      "|tt0000002|       5|Le clown et ses c...|    FR|    NULL|imdbDisplay|                NULL|                0|\n",
      "|tt0000002|       6|The Clown and His...|    US|    NULL|       NULL|literal English t...|                0|\n",
      "|tt0000002|       7|  Клоун и его собаки|    RU|    NULL|imdbDisplay|                NULL|                0|\n",
      "|tt0000002|       8|          道化師と犬|    JP|      ja|imdbDisplay|                NULL|                0|\n",
      "|tt0000003|       1|      Pauvre Pierrot|  NULL|    NULL|   original|                NULL|                1|\n",
      "|tt0000003|      10|        Бідний П'єро|    UA|    NULL|imdbDisplay|                NULL|                0|\n",
      "|tt0000003|      11|        哀れなピエロ|    JP|      ja|imdbDisplay|                NULL|                0|\n",
      "|tt0000003|       2|        Poor Pierrot|    GB|    NULL|imdbDisplay|                NULL|                0|\n",
      "+---------+--------+--------------------+------+--------+-----------+--------------------+-----------------+\n",
      "only showing top 20 rows\n",
      "\n"
     ]
    }
   ],
   "source": [
    "title_akas_df = spark.table(\"demo.imdb.title_akas\")\n",
    "title_akas_df.show()\n"
   ]
  },
  {
   "cell_type": "code",
   "execution_count": 4,
   "id": "acd6808d-23ab-439b-a1dd-5c1244df71a4",
   "metadata": {},
   "outputs": [
    {
     "name": "stdout",
     "output_type": "stream",
     "text": [
      "+---------+----------+--------------------+--------------------+--------+----------+--------+---------------+--------------------+\n",
      "| title_id|title_type|       primary_title|      original_title|is_adult|start_year|end_year|runtime_minutes|              genres|\n",
      "+---------+----------+--------------------+--------------------+--------+----------+--------+---------------+--------------------+\n",
      "|tt0000001|     short|          Carmencita|          Carmencita|       0|      1894|    NULL|              1|   Documentary,Short|\n",
      "|tt0000002|     short|Le clown et ses c...|Le clown et ses c...|       0|      1892|    NULL|              5|     Animation,Short|\n",
      "|tt0000003|     short|        Poor Pierrot|      Pauvre Pierrot|       0|      1892|    NULL|              5|Animation,Comedy,...|\n",
      "|tt0000004|     short|         Un bon bock|         Un bon bock|       0|      1892|    NULL|             12|     Animation,Short|\n",
      "|tt0000005|     short|    Blacksmith Scene|    Blacksmith Scene|       0|      1893|    NULL|              1|               Short|\n",
      "|tt0000006|     short|   Chinese Opium Den|   Chinese Opium Den|       0|      1894|    NULL|              1|               Short|\n",
      "|tt0000007|     short|Corbett and Court...|Corbett and Court...|       0|      1894|    NULL|              1|         Short,Sport|\n",
      "|tt0000008|     short|Edison Kinetoscop...|Edison Kinetoscop...|       0|      1894|    NULL|              1|   Documentary,Short|\n",
      "|tt0000009|     movie|          Miss Jerry|          Miss Jerry|       0|      1894|    NULL|             45|             Romance|\n",
      "|tt0000010|     short| Leaving the Factory|La sortie de l'us...|       0|      1895|    NULL|              1|   Documentary,Short|\n",
      "|tt0000011|     short|Akrobatisches Pot...|Akrobatisches Pot...|       0|      1895|    NULL|              1|   Documentary,Short|\n",
      "|tt0000012|     short|The Arrival of a ...|L'arrivée d'un tr...|       0|      1896|    NULL|              1|   Documentary,Short|\n",
      "|tt0000013|     short|The Photographica...|Le débarquement d...|       0|      1895|    NULL|              1|   Documentary,Short|\n",
      "|tt0000014|     short| The Waterer Watered|   L'arroseur arrosé|       0|      1895|    NULL|              1|        Comedy,Short|\n",
      "|tt0000015|     short|      Around a Cabin| Autour d'une cabine|       0|      1894|    NULL|              2|Animation,Comedy,...|\n",
      "|tt0000016|     short|Boat Leaving the ...|Barque sortant du...|       0|      1895|    NULL|              1|   Documentary,Short|\n",
      "|tt0000017|     short|Italienischer Bau...|Italienischer Bau...|       0|      1895|    NULL|              1|   Documentary,Short|\n",
      "|tt0000018|     short|Das boxende Känguruh|Das boxende Känguruh|       0|      1895|    NULL|              1|         Short,Sport|\n",
      "|tt0000019|     short|    The Clown Barber|    The Clown Barber|       0|      1898|    NULL|             \\N|        Comedy,Short|\n",
      "|tt0000020|     short|      The Derby 1895|      The Derby 1895|       0|      1895|    NULL|              1|Documentary,Short...|\n",
      "+---------+----------+--------------------+--------------------+--------+----------+--------+---------------+--------------------+\n",
      "only showing top 20 rows\n",
      "\n"
     ]
    }
   ],
   "source": [
    "title_basics_df = spark.table(\"demo.imdb.title_basics\")\n",
    "title_basics_df.show()"
   ]
  },
  {
   "cell_type": "code",
   "execution_count": 2,
   "id": "5fb6bd64-5101-45b1-a779-1adc9ce370a0",
   "metadata": {},
   "outputs": [
    {
     "name": "stdout",
     "output_type": "stream",
     "text": [
      "+---------+-------------------+---------+\n",
      "| title_id|        director_id|  writers|\n",
      "+---------+-------------------+---------+\n",
      "|tt0000001|          nm0005690|     NULL|\n",
      "|tt0000002|          nm0721526|     NULL|\n",
      "|tt0000003|          nm0721526|nm0721526|\n",
      "|tt0000004|          nm0721526|     NULL|\n",
      "|tt0000005|          nm0005690|     NULL|\n",
      "|tt0000006|          nm0005690|     NULL|\n",
      "|tt0000007|nm0005690,nm0374658|     NULL|\n",
      "|tt0000008|          nm0005690|     NULL|\n",
      "|tt0000009|          nm0085156|nm0085156|\n",
      "|tt0000010|          nm0525910|     NULL|\n",
      "|tt0000011|          nm0804434|     NULL|\n",
      "|tt0000012|nm0525908,nm0525910|     NULL|\n",
      "|tt0000013|          nm0525910|     NULL|\n",
      "|tt0000014|          nm0525910|     NULL|\n",
      "|tt0000015|          nm0721526|nm0721526|\n",
      "|tt0000016|          nm0525910|     NULL|\n",
      "|tt0000017|nm1587194,nm0804434|     NULL|\n",
      "|tt0000018|          nm0804434|     NULL|\n",
      "|tt0000019|          nm0932055|     NULL|\n",
      "|tt0000020|          nm0010291|     NULL|\n",
      "+---------+-------------------+---------+\n",
      "only showing top 20 rows\n",
      "\n"
     ]
    }
   ],
   "source": [
    "title_crew_df = spark.table(\"demo.imdb.title_crew\")\n",
    "title_crew_df.show()"
   ]
  },
  {
   "cell_type": "code",
   "execution_count": 4,
   "id": "5d4c62ac-d1aa-464a-a7bc-53e37403ebba",
   "metadata": {},
   "outputs": [
    {
     "name": "stdout",
     "output_type": "stream",
     "text": [
      "+---------+---------------+-------------+--------------+\n",
      "| title_id|parent_title_id|season_number|episode_number|\n",
      "+---------+---------------+-------------+--------------+\n",
      "|tt0031458|     tt32857063|         NULL|          NULL|\n",
      "|tt0041951|      tt0041038|            1|             9|\n",
      "|tt0042816|      tt0989125|            1|            17|\n",
      "|tt0042889|      tt0989125|         NULL|          NULL|\n",
      "|tt0043426|      tt0040051|            3|            42|\n",
      "|tt0043631|      tt0989125|            2|            16|\n",
      "|tt0043693|      tt0989125|            2|             8|\n",
      "|tt0043710|      tt0989125|            3|             3|\n",
      "|tt0044093|      tt0959862|            1|             6|\n",
      "|tt0044668|      tt0044243|            2|            16|\n",
      "|tt0044901|      tt0989125|            3|            46|\n",
      "|tt0045519|      tt0989125|            4|            11|\n",
      "|tt0045960|      tt0044284|            2|             3|\n",
      "|tt0046135|      tt0989125|            4|             5|\n",
      "|tt0046150|      tt0341798|         NULL|          NULL|\n",
      "|tt0046855|      tt0046643|            1|             4|\n",
      "|tt0046864|      tt0989125|            5|            20|\n",
      "|tt0047810|      tt0914702|            3|            36|\n",
      "|tt0047852|      tt0047745|            1|            15|\n",
      "|tt0047858|      tt0046637|            2|             9|\n",
      "+---------+---------------+-------------+--------------+\n",
      "only showing top 20 rows\n",
      "\n"
     ]
    }
   ],
   "source": [
    "title_episode_df = spark.table(\"demo.imdb.title_episode\")\n",
    "title_episode_df.show()"
   ]
  },
  {
   "cell_type": "code",
   "execution_count": 5,
   "id": "b9315650-ac16-422c-b571-bdbad37a8fd7",
   "metadata": {},
   "outputs": [
    {
     "name": "stdout",
     "output_type": "stream",
     "text": [
      "+---------+--------+---------+---------------+--------------------+--------------+\n",
      "| title_id|ordering|  name_id|       category|                 job|    characters|\n",
      "+---------+--------+---------+---------------+--------------------+--------------+\n",
      "|tt0000001|       1|nm1588970|           self|                NULL|      [\"Self\"]|\n",
      "|tt0000001|       2|nm0005690|       director|                NULL|          NULL|\n",
      "|tt0000001|       3|nm0005690|       producer|            producer|          NULL|\n",
      "|tt0000001|       4|nm0374658|cinematographer|director of photo...|          NULL|\n",
      "|tt0000002|       1|nm0721526|       director|                NULL|          NULL|\n",
      "|tt0000002|       2|nm1335271|       composer|                NULL|          NULL|\n",
      "|tt0000003|       1|nm0721526|       director|                NULL|          NULL|\n",
      "|tt0000003|       2|nm0721526|         writer|                NULL|          NULL|\n",
      "|tt0000003|       3|nm1770680|       producer|            producer|          NULL|\n",
      "|tt0000003|       4|nm0721526|       producer|            producer|          NULL|\n",
      "|tt0000003|       5|nm1335271|       composer|                NULL|          NULL|\n",
      "|tt0000003|       6|nm5442200|         editor|              editor|          NULL|\n",
      "|tt0000004|       1|nm0721526|       director|                NULL|          NULL|\n",
      "|tt0000004|       2|nm1335271|       composer|                NULL|          NULL|\n",
      "|tt0000005|       1|nm0443482|          actor|                NULL|[\"Blacksmith\"]|\n",
      "|tt0000005|       2|nm0653042|          actor|                NULL| [\"Assistant\"]|\n",
      "|tt0000005|       3|nm0249379|       producer|            producer|          NULL|\n",
      "|tt0000007|       1|nm0179163|          actor|                NULL|          NULL|\n",
      "|tt0000007|       2|nm0183947|          actor|                NULL|          NULL|\n",
      "|tt0000007|       3|nm0005690|       director|                NULL|          NULL|\n",
      "+---------+--------+---------+---------------+--------------------+--------------+\n",
      "only showing top 20 rows\n",
      "\n"
     ]
    }
   ],
   "source": [
    "title_principals_df = spark.table(\"demo.imdb.title_principals\")\n",
    "title_principals_df.show()"
   ]
  },
  {
   "cell_type": "code",
   "execution_count": 6,
   "id": "3854ef3d-ae25-4353-aa45-56640da5a8f8",
   "metadata": {},
   "outputs": [
    {
     "name": "stdout",
     "output_type": "stream",
     "text": [
      "+---------+--------------+---------+\n",
      "| title_id|average_rating|num_votes|\n",
      "+---------+--------------+---------+\n",
      "|tt0000001|           5.7|     2182|\n",
      "|tt0000002|           5.5|      302|\n",
      "|tt0000003|           6.4|     2256|\n",
      "|tt0000004|           5.2|      194|\n",
      "|tt0000005|           6.2|     2995|\n",
      "|tt0000006|           5.0|      220|\n",
      "|tt0000007|           5.3|      931|\n",
      "|tt0000008|           5.3|     2349|\n",
      "|tt0000009|           5.3|      229|\n",
      "|tt0000010|           6.8|     8115|\n",
      "|tt0000011|           5.2|      436|\n",
      "|tt0000012|           7.4|    13730|\n",
      "|tt0000013|           5.7|     2097|\n",
      "|tt0000014|           7.1|     6279|\n",
      "|tt0000015|           6.1|     1297|\n",
      "|tt0000016|           5.9|     1684|\n",
      "|tt0000017|           4.6|      395|\n",
      "|tt0000018|           5.2|      681|\n",
      "|tt0000019|           4.8|       36|\n",
      "|tt0000020|           4.7|      422|\n",
      "+---------+--------------+---------+\n",
      "only showing top 20 rows\n",
      "\n"
     ]
    }
   ],
   "source": [
    "title_ratings_df = spark.table(\"demo.imdb.title_ratings\")\n",
    "title_ratings_df.show()"
   ]
  },
  {
   "cell_type": "code",
   "execution_count": null,
   "id": "741c2e34-c23a-485f-91cb-bbbd6ad12384",
   "metadata": {},
   "outputs": [],
   "source": []
  }
 ],
 "metadata": {
  "kernelspec": {
   "display_name": "Python 3 (ipykernel)",
   "language": "python",
   "name": "python3"
  },
  "language_info": {
   "codemirror_mode": {
    "name": "ipython",
    "version": 3
   },
   "file_extension": ".py",
   "mimetype": "text/x-python",
   "name": "python",
   "nbconvert_exporter": "python",
   "pygments_lexer": "ipython3",
   "version": "3.10.16"
  }
 },
 "nbformat": 4,
 "nbformat_minor": 5
}
